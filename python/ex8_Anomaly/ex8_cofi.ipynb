{
 "cells": [
  {
   "cell_type": "code",
   "execution_count": 2,
   "metadata": {},
   "outputs": [
    {
     "data": {
      "text/plain": [
       "{'divide': 'ignore', 'invalid': 'ignore', 'over': 'warn', 'under': 'ignore'}"
      ]
     },
     "execution_count": 2,
     "metadata": {},
     "output_type": "execute_result"
    }
   ],
   "source": [
    "%matplotlib inline\n",
    "import numpy as np\n",
    "import matplotlib.pyplot as plt\n",
    "from mpl_toolkits.mplot3d import Axes3D\n",
    "from matplotlib import cm\n",
    "import seaborn as sns\n",
    "import pandas as pd\n",
    "\n",
    "from scipy.optimize import minimize\n",
    "import scipy.io as sio\n",
    "import math\n",
    "\n",
    "sns.set_context('notebook')\n",
    "#sns.set_style('white')\n",
    "plt.style.use('fivethirtyeight') # blue\n",
    "#plt.style.use('ggplot') # red\n",
    "plt.xkcd() # because why not?\n",
    "np.set_printoptions(precision=3)\n",
    "np.seterr(divide='ignore', invalid='ignore') # Ignore divide by zero"
   ]
  },
  {
   "cell_type": "code",
   "execution_count": 120,
   "metadata": {
    "collapsed": true
   },
   "outputs": [],
   "source": [
    "def cofiCostFunc(params, Y, R, num_users, num_movies, num_features, L, iterating=False):\n",
    "    X = params[:num_movies*num_features].reshape((num_movies, num_features))\n",
    "    Theta = params[num_movies*num_features:].reshape(num_users, num_features)\n",
    "    \n",
    "    row_sub, col_sub = np.where(R)\n",
    "    \n",
    "    X_grad = np.zeros(X.shape)\n",
    "    Theta_grad = np.zeros(Theta.shape)\n",
    "    \n",
    "    X_mat = X[row_sub, :]\n",
    "    Theta_mat = Theta[col_sub, :]\n",
    "    \n",
    "    cost_mat = np.sum(X_mat * Theta_mat, 1) - Y[row_sub, col_sub]\n",
    "    J = 1/2 * (cost_mat.T @ cost_mat)\n",
    "    \n",
    "    # Regularization\n",
    "    J += L/2 * (np.sum(Theta ** 2) + np.sum(X ** 2));\n",
    "\n",
    "    # Determining the gradient\n",
    "    for i in range(num_movies):\n",
    "        idx = np.where(R[i, :] == 1)\n",
    "        Theta_temp = Theta[idx]\n",
    "        Y_temp = Y[i, idx]\n",
    "        X_grad[i, :] = (X[i:i+1, :] @ Theta_temp.T - Y_temp) @ Theta_temp + L * X[i, :]\n",
    "    \n",
    "    for j in range(num_users):\n",
    "        idy = np.where(R[:, j] == 1)\n",
    "        Theta_temp = Theta[j:j+1, :]\n",
    "        Y_temp = Y[idy, j]\n",
    "        X_temp = X[idy]\n",
    "        Theta_grad[j, :] = (Theta_temp @ X_temp.T  - Y_temp) @ X_temp + L * Theta[j, :]\n",
    "\n",
    "    # Flatten gradient\n",
    "    grad = np.append(X_grad.flatten(), Theta_grad.flatten())\n",
    "    \n",
    "    if iterating: print('Cost: {}'.format(J))\n",
    "        \n",
    "    return J, grad"
   ]
  },
  {
   "cell_type": "code",
   "execution_count": 4,
   "metadata": {},
   "outputs": [],
   "source": [
    "def computeNumericalGradient(costFunc, theta):\n",
    "    numgrad = np.zeros(theta.shape)\n",
    "    perturb = np.zeros(theta.shape)\n",
    "    epsilon = 1e-4\n",
    "\n",
    "    for p in range(theta.size):\n",
    "        perturb[p] = epsilon\n",
    "        loss1, _ = costFunc(theta - perturb)\n",
    "        loss2, _ = costFunc(theta + perturb)\n",
    "        \n",
    "        numgrad[p] = (loss2 - loss1) / (2*epsilon)\n",
    "        perturb[p] = 0\n",
    "    \n",
    "    return numgrad\n",
    "    \n",
    "def checkCostFunction(L):\n",
    "    # Create a random problem\n",
    "    \n",
    "    X_t = np.random.rand(4, 3)\n",
    "    Theta_t = np.random.rand(5, 3)\n",
    "    \n",
    "    # Remove entries\n",
    "    Y = X_t @ Theta_t.T\n",
    "    Y[np.random.rand(*Y.shape) > 0.5] = 0\n",
    "    R = np.zeros(Y.shape)\n",
    "    R[Y != 0] = 1\n",
    "    \n",
    "    # Gradient checking\n",
    "    X = np.random.randn(*X_t.shape)\n",
    "    Theta = np.random.randn(*Theta_t.shape)\n",
    "    num_movies, num_users = Y.shape\n",
    "    num_features = Theta_t.shape[1]\n",
    "    \n",
    "    cost, grad = cofiCostFunc(np.append(X.flatten(), Theta.flatten()), \\\n",
    "                              Y, R, num_users, num_movies, num_features, L) \n",
    "    \n",
    "    costFunc = lambda t: cofiCostFunc(t, Y, R, num_users, num_movies, num_features, L)\n",
    "    \n",
    "    numgrad = computeNumericalGradient(costFunc, np.append(X.flatten(), Theta.flatten()))\n",
    "    \n",
    "    print('Numerical Gradient, Gradient')\n",
    "    print(np.vstack((grad, numgrad)).T)"
   ]
  },
  {
   "cell_type": "code",
   "execution_count": 5,
   "metadata": {
    "collapsed": true
   },
   "outputs": [],
   "source": [
    "def normalizeRatings(Y, R):\n",
    "    m, n = Y.shape\n",
    "    mu = np.zeros((m, 1))\n",
    "    norm = np.zeros(Y.shape)\n",
    "    \n",
    "    for i in range(m):\n",
    "        idx = np.where(R[i, :] == 1)\n",
    "        mu[i] = np.mean(Y[i,idx])\n",
    "        norm[i, idx] = Y[i, idx] - mu[i];\n",
    "        \n",
    "    return mu, norm"
   ]
  },
  {
   "cell_type": "code",
   "execution_count": 6,
   "metadata": {},
   "outputs": [
    {
     "data": {
      "text/plain": [
       "dict_keys(['__header__', '__version__', '__globals__', 'Y', 'R'])"
      ]
     },
     "execution_count": 6,
     "metadata": {},
     "output_type": "execute_result"
    }
   ],
   "source": [
    "data = sio.loadmat('ex8_movies.mat')\n",
    "data.keys()"
   ]
  },
  {
   "cell_type": "code",
   "execution_count": 7,
   "metadata": {
    "collapsed": true
   },
   "outputs": [],
   "source": [
    "Y = data['Y']\n",
    "R = data['R']"
   ]
  },
  {
   "cell_type": "code",
   "execution_count": 8,
   "metadata": {},
   "outputs": [
    {
     "data": {
      "text/plain": [
       "<matplotlib.text.Text at 0x106bb1940>"
      ]
     },
     "execution_count": 8,
     "metadata": {},
     "output_type": "execute_result"
    },
    {
     "data": {
      "image/png": "[encoded data removed]",
      "text/plain": [
       "<matplotlib.figure.Figure at 0x106b7b320>"
      ]
     },
     "metadata": {},
     "output_type": "display_data"
    }
   ],
   "source": [
    "plt.figure()\n",
    "plt.imshow(Y, extent=[0, 1000, 1700, 0], cmap=cm.coolwarm)\n",
    "plt.colorbar()\n",
    "\n",
    "plt.title('Movie Ratings by User')\n",
    "plt.xlabel('Users')\n",
    "plt.ylabel('Movies')"
   ]
  },
  {
   "cell_type": "code",
   "execution_count": 9,
   "metadata": {},
   "outputs": [
    {
     "data": {
      "text/plain": [
       "dict_keys(['__header__', '__version__', '__globals__', 'X', 'Theta', 'num_users', 'num_movies', 'num_features'])"
      ]
     },
     "execution_count": 9,
     "metadata": {},
     "output_type": "execute_result"
    }
   ],
   "source": [
    "data = sio.loadmat('ex8_movieParams.mat')\n",
    "data.keys()"
   ]
  },
  {
   "cell_type": "code",
   "execution_count": 10,
   "metadata": {
    "collapsed": true
   },
   "outputs": [],
   "source": [
    "X = data['X']\n",
    "Theta = data['Theta']\n",
    "num_users = data['num_users']\n",
    "num_movies = data['num_movies']\n",
    "num_features = data['num_features']"
   ]
  },
  {
   "cell_type": "code",
   "execution_count": 11,
   "metadata": {
    "collapsed": true
   },
   "outputs": [],
   "source": [
    "# Reduce data size so training runs faster\n",
    "\n",
    "num_users = 4; num_movies = 5; num_features = 3;\n",
    "X = X[:num_movies, :num_features]\n",
    "Theta = Theta[:num_users, :num_features]\n",
    "Y = Y[:num_movies, :num_users]\n",
    "R = R[:num_movies, :num_users]\n",
    "\n",
    "params = np.append(X.flatten(), Theta.flatten())"
   ]
  },
  {
   "cell_type": "code",
   "execution_count": 12,
   "metadata": {},
   "outputs": [],
   "source": [
    "J, grad = cofiCostFunc(params, Y, R, num_users, num_movies, num_features, 0);"
   ]
  },
  {
   "cell_type": "code",
   "execution_count": 13,
   "metadata": {},
   "outputs": [
    {
     "name": "stdout",
     "output_type": "stream",
     "text": [
      "Numerical Gradient, Gradient\n",
      "[[ 30.239  30.239]\n",
      " [-18.318 -18.318]\n",
      " [-10.405 -10.405]\n",
      " [  1.467   1.467]\n",
      " [  1.463   1.463]\n",
      " [ -1.113  -1.113]\n",
      " [  1.132   1.132]\n",
      " [ -2.102  -2.102]\n",
      " [ -0.65   -0.65 ]\n",
      " [  1.743   1.743]\n",
      " [ -0.345  -0.345]\n",
      " [ -1.006  -1.006]\n",
      " [ -9.539  -9.539]\n",
      " [  4.682   4.682]\n",
      " [  3.52    3.52 ]\n",
      " [ -6.803  -6.803]\n",
      " [  2.738   2.738]\n",
      " [  2.266   2.266]\n",
      " [ 18.977  18.977]\n",
      " [-10.905 -10.905]\n",
      " [ -4.906  -4.906]\n",
      " [-12.109 -12.109]\n",
      " [  7.53    7.53 ]\n",
      " [  3.506   3.506]\n",
      " [  0.847   0.847]\n",
      " [ -1.04   -1.04 ]\n",
      " [  1.413   1.413]]\n"
     ]
    }
   ],
   "source": [
    "checkCostFunction(1.5)"
   ]
  },
  {
   "cell_type": "code",
   "execution_count": 14,
   "metadata": {},
   "outputs": [],
   "source": [
    "df = pd.read_table('test.txt', names=['Movie'])"
   ]
  },
  {
   "cell_type": "code",
   "execution_count": 15,
   "metadata": {},
   "outputs": [],
   "source": [
    "_, df['Movie'] = df['Movie'].str.split(' ', 1).str\n",
    "df['Movie'], df['Year'] = df['Movie'].str.rsplit(' ', 1).str\n",
    "df['Year'] = df['Year'].str.replace(r'\\(|\\)', '')"
   ]
  },
  {
   "cell_type": "code",
   "execution_count": 16,
   "metadata": {},
   "outputs": [
    {
     "data": {
      "text/html": [
       "<div>\n",
       "<table border=\"1\" class=\"dataframe\">\n",
       "  <thead>\n",
       "    <tr style=\"text-align: right;\">\n",
       "      <th></th>\n",
       "      <th>Movie</th>\n",
       "      <th>Year</th>\n",
       "    </tr>\n",
       "  </thead>\n",
       "  <tbody>\n",
       "    <tr>\n",
       "      <th>0</th>\n",
       "      <td>Toy Story</td>\n",
       "      <td>1995</td>\n",
       "    </tr>\n",
       "    <tr>\n",
       "      <th>1</th>\n",
       "      <td>GoldenEye</td>\n",
       "      <td>1995</td>\n",
       "    </tr>\n",
       "    <tr>\n",
       "      <th>2</th>\n",
       "      <td>Four Rooms</td>\n",
       "      <td>1995</td>\n",
       "    </tr>\n",
       "    <tr>\n",
       "      <th>3</th>\n",
       "      <td>Get Shorty</td>\n",
       "      <td>1995</td>\n",
       "    </tr>\n",
       "    <tr>\n",
       "      <th>4</th>\n",
       "      <td>Copycat</td>\n",
       "      <td>1995</td>\n",
       "    </tr>\n",
       "  </tbody>\n",
       "</table>\n",
       "</div>"
      ],
      "text/plain": [
       "        Movie  Year\n",
       "0   Toy Story  1995\n",
       "1   GoldenEye  1995\n",
       "2  Four Rooms  1995\n",
       "3  Get Shorty  1995\n",
       "4     Copycat  1995"
      ]
     },
     "execution_count": 16,
     "metadata": {},
     "output_type": "execute_result"
    }
   ],
   "source": [
    "df.head()"
   ]
  },
  {
   "cell_type": "code",
   "execution_count": 113,
   "metadata": {},
   "outputs": [
    {
     "name": "stdout",
     "output_type": "stream",
     "text": [
      "Rated 4.0 for Toy Story\n",
      "Rated 3.0 for Twelve Monkeys\n",
      "Rated 5.0 for Usual Suspects, The\n",
      "Rated 4.0 for Outbreak\n",
      "Rated 5.0 for Shawshank Redemption, The\n",
      "Rated 3.0 for While You Were Sleeping\n",
      "Rated 5.0 for Forrest Gump\n",
      "Rated 2.0 for Silence of the Lambs, The\n",
      "Rated 4.0 for Alien\n",
      "Rated 5.0 for Die Hard 2\n",
      "Rated 5.0 for Sphere\n"
     ]
    }
   ],
   "source": [
    "n = 1682\n",
    "ratings = np.zeros((n, 1))\n",
    "\n",
    "# Inputted ratings for movies\n",
    "ratings[0] = 4\n",
    "ratings[97] = 2\n",
    "ratings[6] = 3\n",
    "ratings[11]= 5\n",
    "ratings[53] = 4\n",
    "ratings[63]= 5\n",
    "ratings[65]= 3\n",
    "ratings[68] = 5\n",
    "ratings[182]= 4\n",
    "ratings[225] = 5\n",
    "ratings[354]= 5\n",
    "\n",
    "for i in range(len(ratings)):\n",
    "    if ratings[i].item():\n",
    "        print('Rated {} for {}'.format(ratings[i].item(), df['Movie'][i]))"
   ]
  },
  {
   "cell_type": "code",
   "execution_count": 114,
   "metadata": {},
   "outputs": [
    {
     "data": {
      "text/plain": [
       "dict_keys(['__header__', '__version__', '__globals__', 'Y', 'R'])"
      ]
     },
     "execution_count": 114,
     "metadata": {},
     "output_type": "execute_result"
    }
   ],
   "source": [
    "data = sio.loadmat('ex8_movies.mat');\n",
    "data.keys()"
   ]
  },
  {
   "cell_type": "code",
   "execution_count": 115,
   "metadata": {
    "collapsed": true
   },
   "outputs": [],
   "source": [
    "Y = data['Y']\n",
    "R = data['R']\n",
    "\n",
    "# Add our personal data\n",
    "Y = np.hstack((ratings, Y))\n",
    "R = np.hstack((ratings != 0, R))\n",
    "\n",
    "num_movies, num_users = Y.shape\n",
    "num_features = 10"
   ]
  },
  {
   "cell_type": "code",
   "execution_count": 116,
   "metadata": {},
   "outputs": [],
   "source": [
    "# Normalize ratings\n",
    "Y_mean, Y_norm = normalizeRatings(Y, R)\n",
    "\n",
    "X = np.random.randn(num_movies, num_features)\n",
    "Theta = np.random.randn(num_users, num_features)\n",
    "\n",
    "initial_parameters = np.append(X.flatten(), Theta.flatten())"
   ]
  },
  {
   "cell_type": "code",
   "execution_count": 121,
   "metadata": {
    "scrolled": true
   },
   "outputs": [
    {
     "name": "stdout",
     "output_type": "stream",
     "text": [
      "Cost: 694364.843134783\n",
      "Cost: 694364.843134783\n",
      "Cost: 673236.0265312926\n",
      "Cost: 595137.5628084885\n",
      "Cost: 370438.06506344036\n",
      "Cost: 196971.02123853262\n",
      "Cost: 3693237.21589428\n",
      "Cost: 121600.18393455731\n",
      "Cost: 109775.37051166159\n",
      "Cost: 92069.78459417206\n",
      "Cost: 90344.15991230158\n",
      "Cost: 76276.82023416957\n",
      "Cost: 69652.00051422622\n",
      "Cost: 61492.1448387611\n",
      "Cost: 59948.734562110454\n",
      "Cost: 57617.177219280486\n",
      "Cost: 52956.748277449944\n",
      "Cost: 47360.6590201214\n",
      "Cost: 45919.71231001893\n",
      "Cost: 43997.76821730778\n",
      "Cost: 45622.96562242422\n",
      "Cost: 42408.32764817131\n",
      "Cost: 42288.09057295728\n",
      "Cost: 41536.82701575762\n",
      "Cost: 41076.34222564797\n",
      "Cost: 40922.69042007743\n",
      "Cost: 40619.793079563\n",
      "Cost: 40509.880722629816\n",
      "Cost: 40305.539010592365\n",
      "Cost: 40226.888607666704\n",
      "Cost: 39968.936295793785\n",
      "Cost: 39875.211867679725\n",
      "Cost: 39804.76269930388\n",
      "Cost: 39621.38545974534\n",
      "Cost: 39488.602398193936\n",
      "Cost: 39614.075162308334\n",
      "Cost: 39439.6935936515\n",
      "Cost: 39366.73063248969\n",
      "Cost: 39344.25959357865\n",
      "Cost: 39328.12572659596\n",
      "Cost: 39291.13858080682\n",
      "Cost: 39269.070023040484\n",
      "Cost: 39257.45220368376\n",
      "Cost: 39211.64874369805\n",
      "Cost: 39193.201966078384\n",
      "Cost: 39182.81043892332\n",
      "Cost: 39147.393385766685\n",
      "Cost: 39136.82239657183\n",
      "Cost: 39126.263299414626\n",
      "Cost: 39109.19761510714\n",
      "Cost: 39097.53030988881\n",
      "Cost: 39080.13014471915\n",
      "Cost: 39075.25687623222\n",
      "Cost: 39063.842027672916\n",
      "Cost: 39060.18797654192\n",
      "Cost: 39060.777721681894\n",
      "Cost: 39052.72419579794\n",
      "Cost: 39045.06933830872\n",
      "Cost: 39037.908859504896\n",
      "Cost: 39030.67788707036\n",
      "Cost: 39025.940653032725\n",
      "Cost: 39024.828352041935\n",
      "Cost: 39023.20336094035\n",
      "Cost: 39019.303981104546\n",
      "Cost: 39018.511454247135\n",
      "Cost: 39018.51156626257\n",
      "Cost: 39016.138101629535\n",
      "Cost: 39013.74759285723\n",
      "Cost: 39011.5511323502\n",
      "Cost: 39008.953857013046\n",
      "Cost: 39007.36841486926\n",
      "Cost: 39007.66824068679\n",
      "Cost: 39006.63258921023\n",
      "Cost: 39005.33317942821\n",
      "Cost: 39003.67754025809\n",
      "Cost: 39004.984707351454\n",
      "Cost: 39002.453202173936\n",
      "Cost: 39000.962192161125\n",
      "Cost: 38999.4769566418\n",
      "Cost: 38997.30246774675\n",
      "Cost: 38996.78736201949\n",
      "Cost: 38992.880611975845\n",
      "Cost: 38992.174578489175\n",
      "Cost: 38991.01610348563\n",
      "Cost: 38989.47495734832\n",
      "Cost: 38986.27956900252\n",
      "Cost: 38982.87068503453\n",
      "Cost: 38979.73453373018\n",
      "Cost: 38977.89032941997\n",
      "Cost: 38977.47968016439\n",
      "Cost: 38976.18237175717\n",
      "Cost: 38975.88720471217\n",
      "Cost: 38973.93593860596\n",
      "Cost: 38971.94074250183\n",
      "Cost: 38970.10721180307\n",
      "Cost: 38968.35148343035\n",
      "Cost: 38966.98662960637\n",
      "Cost: 38965.31724937283\n",
      "Cost: 38963.517576587095\n",
      "Cost: 38963.14815790569\n",
      "Cost: 38962.50408144429\n",
      "Cost: 38961.51208836192\n",
      "Cost: 38960.84218758065\n",
      "Cost: 38961.05972263362\n",
      "Cost: 38960.549770166086\n",
      "Cost: 38960.10254446791\n",
      "Cost: 38959.94149108896\n",
      "Cost: 38959.41386783346\n",
      "Cost: 38958.92271814348\n",
      "Cost: 38958.59501036857\n",
      "Cost: 38958.55992078387\n",
      "Cost: 38958.42028385165\n",
      "Cost: 38958.15028203226\n",
      "Cost: 38958.04464355169\n",
      "Cost: 38957.83995711847\n",
      "Cost: 38957.7847459435\n",
      "Cost: 38957.52329304307\n",
      "Cost: 38957.22766750732\n",
      "Cost: 38957.27516139561\n",
      "Cost: 38957.089238709006\n",
      "Cost: 38956.891558885545\n",
      "Cost: 38956.85068269001\n",
      "Cost: 38956.5470914408\n",
      "Cost: 38956.28396512314\n",
      "Cost: 38956.10575752305\n",
      "Cost: 38955.80815618991\n",
      "Cost: 38955.58921920539\n",
      "Cost: 38955.186560439586\n",
      "Cost: 38955.04844609458\n",
      "Cost: 38954.94143169538\n",
      "Cost: 38954.63739666945\n",
      "Cost: 38955.01095566782\n",
      "Cost: 38954.541874081864\n",
      "Cost: 38954.529540193544\n",
      "Cost: 38954.49035187003\n",
      "Cost: 38954.42234318363\n",
      "Cost: 38954.3558230582\n",
      "Cost: 38954.27470374455\n",
      "Cost: 38954.1965844425\n",
      "Cost: 38954.10499874629\n",
      "Cost: 38954.023868504446\n",
      "Cost: 38953.926897577854\n",
      "Cost: 38953.805096487275\n",
      "Cost: 38953.845840464855\n",
      "Cost: 38953.752307808354\n",
      "Cost: 38953.72266120478\n",
      "Cost: 38953.715389136014\n",
      "Cost: 38953.65200556508\n",
      "Cost: 38953.591230405196\n",
      "Cost: 38953.43117177325\n"
     ]
    }
   ],
   "source": [
    "L = 10\n",
    "iteration = 0\n",
    "\n",
    "costFunc = lambda t: cofiCostFunc(t, Y_norm, R, num_users, num_movies, num_features, L, iterating=True)\n",
    "res = minimize(costFunc,\n",
    "               x0=initial_parameters,\n",
    "               method='CG',\n",
    "               jac=True,\n",
    "               options={'maxiter':100})"
   ]
  },
  {
   "cell_type": "code",
   "execution_count": 122,
   "metadata": {},
   "outputs": [],
   "source": [
    "params = res['x']\n",
    "\n",
    "X = params[:num_movies*num_features].reshape((num_movies, num_features))\n",
    "Theta = params[num_movies*num_features:].reshape(num_users, num_features)\n",
    "\n",
    "pred = X @ Theta.T\n",
    "pred = pred[:, 1] + Y_mean.flatten()\n",
    "\n",
    "ix = np.argsort(pred)[::-1]"
   ]
  },
  {
   "cell_type": "code",
   "execution_count": 123,
   "metadata": {},
   "outputs": [
    {
     "name": "stdout",
     "output_type": "stream",
     "text": [
      "Predicting rating 5.760745026695732 for movie Star Wars\n",
      "Predicting rating 5.33593128694247 for movie Empire Strikes Back, The\n",
      "Predicting rating 5.282804165910463 for movie Return of the Jedi\n",
      "Predicting rating 5.133603614664415 for movie Lawrence of Arabia\n",
      "Predicting rating 5.112998513773848 for movie Monty Python and the Holy Grail\n",
      "Predicting rating 5.083566657240322 for movie Wrong Trousers, The\n",
      "Predicting rating 5.073822477297938 for movie Citizen Kane\n",
      "Predicting rating 5.0000877786246125 for movie Great Day in Harlem, A\n",
      "Predicting rating 5.0000622358649105 for movie Star Kid\n",
      "Predicting rating 5.000002294962179 for movie Santa with Muscles\n"
     ]
    }
   ],
   "source": [
    "for i in range(10):\n",
    "    j = ix[i]\n",
    "    print('Predicting rating {} for movie {}'.format(pred[j], df['Movie'][j]))"
   ]
  },
  {
   "cell_type": "code",
   "execution_count": 124,
   "metadata": {},
   "outputs": [
    {
     "name": "stdout",
     "output_type": "stream",
     "text": [
      "Original ratings provided: \n",
      "\n",
      "Rated 4.0 for Toy Story\n",
      "Rated 3.0 for Twelve Monkeys\n",
      "Rated 5.0 for Usual Suspects, The\n",
      "Rated 4.0 for Outbreak\n",
      "Rated 5.0 for Shawshank Redemption, The\n",
      "Rated 3.0 for While You Were Sleeping\n",
      "Rated 5.0 for Forrest Gump\n",
      "Rated 2.0 for Silence of the Lambs, The\n",
      "Rated 4.0 for Alien\n",
      "Rated 5.0 for Die Hard 2\n",
      "Rated 5.0 for Sphere\n"
     ]
    }
   ],
   "source": [
    "print('Original ratings provided: \\n')\n",
    "for i in range(len(ratings)):\n",
    "    if ratings[i]:\n",
    "        print('Rated {} for {}'.format(ratings[i].item(), df['Movie'][i]))"
   ]
  },
  {
   "cell_type": "code",
   "execution_count": null,
   "metadata": {
    "collapsed": true
   },
   "outputs": [],
   "source": []
  }
 ],
 "metadata": {
  "kernelspec": {
   "display_name": "Python 3",
   "language": "python",
   "name": "python3"
  },
  "language_info": {
   "codemirror_mode": {
    "name": "ipython",
    "version": 3
   },
   "file_extension": ".py",
   "mimetype": "text/x-python",
   "name": "python",
   "nbconvert_exporter": "python",
   "pygments_lexer": "ipython3",
   "version": "3.6.1"
  }
 },
 "nbformat": 4,
 "nbformat_minor": 2
}
