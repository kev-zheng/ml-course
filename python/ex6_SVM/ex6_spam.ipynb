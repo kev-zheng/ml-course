{
 "cells": [
  {
   "cell_type": "code",
   "execution_count": 2,
   "metadata": {
    "collapsed": true
   },
   "outputs": [],
   "source": [
    "\"\"\"\n",
    "This notebook processes a small set of emails using a\n",
    "linear SVM and evaluates its performance on a test set\n",
    "\"\"\"\n",
    "import numpy as np\n",
    "import pandas as pd\n",
    "\n",
    "import scipy.io as sio\n",
    "from sklearn import svm, datasets\n",
    "\n",
    "import re\n",
    "import pprint\n",
    "from stemming.porter2 import stem\n",
    "\n",
    "np.set_printoptions(precision=3)\n",
    "ansi = {'underline': '\\033[4m', 'bold': '\\033[1m', 'end':'\\033[0m'}"
   ]
  },
  {
   "cell_type": "code",
   "execution_count": 3,
   "metadata": {
    "collapsed": true
   },
   "outputs": [],
   "source": [
    "def processEmail(email, vocab):\n",
    "    \"\"\"Runs an email through a set of regexes, stemming, and maps every word to the vocab set\"\"\"\n",
    "    \n",
    "    # Compile regexes\n",
    "    html_regex = re.compile('<[^<>]+>') # Strip html\n",
    "    num_regex = re.compile('[0-9]+')\n",
    "    url_regex = re.compile(r'(http|https)://[^\\s]*')\n",
    "    email_regex = re.compile('[^\\s]+@[^\\s]+')\n",
    "    dollar_regex = re.compile('[$]+')\n",
    "    \n",
    "    email = email.lower()\n",
    "    email = email.replace('\\n', ' ')\n",
    "    \n",
    "    email = html_regex.sub(' ', email)\n",
    "    email = num_regex.sub('number', email)\n",
    "    email = url_regex.sub('httpaddr', email)\n",
    "    email = email_regex.sub('emailaddr', email)\n",
    "    email = dollar_regex.sub('dollar', email)\n",
    "    \n",
    "    # Remove punctuation\n",
    "    for c in r\"\"\"@$/#.-:&*+=[]?!(){},''\">_<;√\"\"\":\n",
    "        email = email.replace(c, ' ')\n",
    "    \n",
    "    email = re.sub('\\s+', ' ', email).strip() # delete extra spaces and strip\n",
    "    email = email.split(' ') # split by spaces\n",
    "    email = [stem(x) for x in email] # stem words in email\n",
    "    \n",
    "    word_indices = []\n",
    "    length = 0 # for printing\n",
    "    for word in email:\n",
    "        index = vocab[vocab['words'] == word].index.tolist()\n",
    "        if index:\n",
    "            word_indices.append(index[0])\n",
    "        \n",
    "        # Printing\n",
    "        if length + len(word) + 1 > 78:\n",
    "            print()\n",
    "            length = 0\n",
    "        print('{} '.format(word), end='')\n",
    "        length += len(word) + 1\n",
    "    print('\\n')\n",
    "    return word_indices"
   ]
  },
  {
   "cell_type": "code",
   "execution_count": 4,
   "metadata": {
    "collapsed": true
   },
   "outputs": [],
   "source": [
    "def emailFeatures(word_indices, vocab):\n",
    "    \"\"\"Maps every index in word_indices to its corresponding feature\"\"\"\n",
    "    return [1 if index in word_indices else 0 for index in range(len(vocab))]"
   ]
  },
  {
   "cell_type": "code",
   "execution_count": 5,
   "metadata": {},
   "outputs": [
    {
     "data": {
      "text/html": [
       "<div>\n",
       "<table border=\"1\" class=\"dataframe\">\n",
       "  <thead>\n",
       "    <tr style=\"text-align: right;\">\n",
       "      <th></th>\n",
       "      <th>words</th>\n",
       "    </tr>\n",
       "  </thead>\n",
       "  <tbody>\n",
       "    <tr>\n",
       "      <th>0</th>\n",
       "      <td>aa</td>\n",
       "    </tr>\n",
       "    <tr>\n",
       "      <th>1</th>\n",
       "      <td>ab</td>\n",
       "    </tr>\n",
       "    <tr>\n",
       "      <th>2</th>\n",
       "      <td>abil</td>\n",
       "    </tr>\n",
       "    <tr>\n",
       "      <th>3</th>\n",
       "      <td>abl</td>\n",
       "    </tr>\n",
       "    <tr>\n",
       "      <th>4</th>\n",
       "      <td>about</td>\n",
       "    </tr>\n",
       "  </tbody>\n",
       "</table>\n",
       "</div>"
      ],
      "text/plain": [
       "   words\n",
       "0     aa\n",
       "1     ab\n",
       "2   abil\n",
       "3    abl\n",
       "4  about"
      ]
     },
     "execution_count": 5,
     "metadata": {},
     "output_type": "execute_result"
    }
   ],
   "source": [
    "email_1 = open('emailSample1.txt', 'r').read()\n",
    "vocab = pd.read_table('vocab.txt',usecols=[1], names=['words'])\n",
    "pp = pprint.PrettyPrinter(compact=True)\n",
    "vocab.head()"
   ]
  },
  {
   "cell_type": "code",
   "execution_count": 6,
   "metadata": {
    "scrolled": true
   },
   "outputs": [
    {
     "name": "stdout",
     "output_type": "stream",
     "text": [
      "anyon know how much it cost to host a web portal well it depend on how mani \n",
      "visitor you re expect this can be anywher from less than number buck a month \n",
      "to a coupl of dollarnumb you should checkout httpaddr or perhap amazon ecnumb \n",
      "if your run someth big to unsubscrib yourself from this mail list send an \n",
      "email to emailaddr \n",
      "\n",
      "[85, 915, 793, 1076, 882, 369, 1698, 789, 1821, 1830, 882, 430, 1170, 793, 1001,\n",
      " 1892, 1363, 591, 237, 161, 88, 687, 944, 1662, 1119, 1061, 1698, 374, 1161,\n",
      " 478, 1892, 1509, 798, 1181, 1236, 809, 1894, 1439, 1546, 180, 1698, 1757, 1895,\n",
      " 687, 991, 960, 1476, 70, 529, 1698, 530]\n"
     ]
    }
   ],
   "source": [
    "index_list = processEmail(email_1, vocab)\n",
    "features = emailFeatures(index_list, vocab)\n",
    "pp.pprint(index_list)"
   ]
  },
  {
   "cell_type": "code",
   "execution_count": 7,
   "metadata": {},
   "outputs": [
    {
     "data": {
      "text/plain": [
       "dict_keys(['__header__', '__version__', '__globals__', 'X', 'y'])"
      ]
     },
     "execution_count": 7,
     "metadata": {},
     "output_type": "execute_result"
    }
   ],
   "source": [
    "# Linear SVM for spam classification\n",
    "data = sio.loadmat('spamTrain.mat')\n",
    "data.keys()"
   ]
  },
  {
   "cell_type": "code",
   "execution_count": 8,
   "metadata": {
    "collapsed": true
   },
   "outputs": [],
   "source": [
    "X = data['X']\n",
    "y = data['y'].flatten()\n",
    "\n",
    "C = 0.1"
   ]
  },
  {
   "cell_type": "code",
   "execution_count": 9,
   "metadata": {},
   "outputs": [
    {
     "name": "stdout",
     "output_type": "stream",
     "text": [
      "Training accuracy: 100\n"
     ]
    }
   ],
   "source": [
    "model = svm.LinearSVC(C=C)\n",
    "model.fit(X, y.flatten())\n",
    "pred = model.predict(X)\n",
    "\n",
    "accuracy = np.mean(pred == y) * 100\n",
    "print('Training accuracy: {0:0.3g}'.format(accuracy))"
   ]
  },
  {
   "cell_type": "code",
   "execution_count": 10,
   "metadata": {},
   "outputs": [
    {
     "data": {
      "text/plain": [
       "dict_keys(['__header__', '__version__', '__globals__', 'Xtest', 'ytest'])"
      ]
     },
     "execution_count": 10,
     "metadata": {},
     "output_type": "execute_result"
    }
   ],
   "source": [
    "# Spam testing set\n",
    "\n",
    "data = sio.loadmat('spamTest.mat')\n",
    "data.keys()"
   ]
  },
  {
   "cell_type": "code",
   "execution_count": 11,
   "metadata": {
    "collapsed": true
   },
   "outputs": [],
   "source": [
    "Xtest = data['Xtest']\n",
    "ytest = data['ytest'].flatten()"
   ]
  },
  {
   "cell_type": "code",
   "execution_count": 12,
   "metadata": {},
   "outputs": [
    {
     "name": "stdout",
     "output_type": "stream",
     "text": [
      "Testing accuracy: 99.2\n"
     ]
    }
   ],
   "source": [
    "pred = model.predict(Xtest)\n",
    "accuracy = np.mean(pred == ytest) * 100\n",
    "print('Testing accuracy: {0:0.3g}'.format(accuracy))"
   ]
  },
  {
   "cell_type": "code",
   "execution_count": 13,
   "metadata": {
    "scrolled": true
   },
   "outputs": [
    {
     "name": "stdout",
     "output_type": "stream",
     "text": [
      "\n",
      " * Top predictors of spam * \n",
      "\n",
      "[Word, weight]\n",
      "['our', 0.42166483953440498]\n",
      "['remov', 0.38717315255196288]\n",
      "['click', 0.38705980092527098]\n",
      "['basenumb', 0.34661724232825103]\n",
      "['guarante', 0.34168552089260801]\n",
      "['visit', 0.30302786782012386]\n",
      "['bodi', 0.26352348471222414]\n",
      "['will', 0.24439379638860914]\n",
      "['numberb', 0.23879490843331866]\n",
      "['price', 0.23419904572386757]\n",
      "['dollar', 0.23231478206570594]\n",
      "['nbsp', 0.22708087250962239]\n",
      "['below', 0.22319898687307405]\n",
      "['lo', 0.21999371144492108]\n",
      "['most', 0.21454837016614811]\n"
     ]
    }
   ],
   "source": [
    "weights = model.coef_.flatten()\n",
    "sorted_indices = weights.argsort()[::-1][:15] # reverse sorted arguments\n",
    "\n",
    "top_spam = [[vocab['words'][index], weights[index]] for index in sorted_indices]\n",
    "\n",
    "print('\\n * Top predictors of spam * \\n')\n",
    "print('[Word, weight]')\n",
    "for item in top_spam: print(item)"
   ]
  },
  {
   "cell_type": "code",
   "execution_count": null,
   "metadata": {
    "collapsed": true
   },
   "outputs": [],
   "source": []
  }
 ],
 "metadata": {
  "kernelspec": {
   "display_name": "Python 3",
   "language": "python",
   "name": "python3"
  },
  "language_info": {
   "codemirror_mode": {
    "name": "ipython",
    "version": 3
   },
   "file_extension": ".py",
   "mimetype": "text/x-python",
   "name": "python",
   "nbconvert_exporter": "python",
   "pygments_lexer": "ipython3",
   "version": "3.6.1"
  }
 },
 "nbformat": 4,
 "nbformat_minor": 2
}
